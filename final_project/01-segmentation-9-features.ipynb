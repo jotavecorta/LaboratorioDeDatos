{
 "cells": [
  {
   "cell_type": "markdown",
   "id": "5620c9f7-6cd2-457d-a672-c133dc37a647",
   "metadata": {},
   "source": [
    "# Clustering de usuarios \n",
    "\n"
   ]
  },
  {
   "cell_type": "code",
   "execution_count": 2,
   "id": "ad9fc98c-e040-4af1-a60e-a06c89058970",
   "metadata": {},
   "outputs": [],
   "source": [
    "# importamos las librerías usuales de python\n",
    "import numpy as np\n",
    "import pandas as pd\n",
    "import matplotlib.pyplot as plt\n",
    "pd.set_option('display.max_columns', None)\n",
    "\n",
    "import seaborn as sns\n",
    "import plotly.express as px\n",
    "\n",
    "#Importing tqdm function of tqdm module \n",
    "from tqdm import tqdm\n",
    "from time import sleep \n",
    "\n",
    "# importamos los algoritmos de clusterizacion a utilizar en esta notebook\n",
    "from sklearn.cluster import KMeans                    # K-means\n",
    "\n",
    "# Estandarizador (transforma las variables en z-scores)\n",
    "from sklearn.preprocessing import StandardScaler\n",
    "\n",
    "from sklearn import preprocessing  #para normalizacion\n",
    "\n",
    "#Para agilizar el proceso de clusterización en el dataset vamos identificar las componentes principales\n",
    "# Clase para realizar componentes principales\n",
    "from sklearn.decomposition import PCA\n",
    "from sklearn.manifold import TSNE\n",
    "\n",
    "#coeficiente de silhouette\n",
    "from sklearn.metrics import silhouette_samples # importamos la clase que computa el coeficiente de silhouette para cada sample\n",
    "from sklearn.metrics import silhouette_score # importamos la clase con la que se calcula el puntaje de silhouette (que es el promedio de los coeficientes de silhouette para cada sample)"
   ]
  },
  {
   "cell_type": "code",
   "execution_count": 155,
   "id": "3ba1502c",
   "metadata": {},
   "outputs": [],
   "source": [
    "# Crear estos directorios en el directorio actual\n",
    "DIR_CLUSTERING_RESULTS='./kmeans-clustering-results/'\n",
    "DIR_CLUSTERING_PLOTS='./kmeans-clustering-plots/'"
   ]
  },
  {
   "cell_type": "markdown",
   "id": "872780ab",
   "metadata": {},
   "source": [
    "##### Funciones Auxiliares"
   ]
  },
  {
   "cell_type": "code",
   "execution_count": 151,
   "id": "11e8d006",
   "metadata": {},
   "outputs": [],
   "source": [
    "\"\"\"\n",
    "Dado un dataframe, chequea valores nan\n",
    "Si existen nans, devuelve la columna y la cantidad de nans\n",
    "\"\"\"\n",
    "def Chequearnan(df):\n",
    "    for col in df.columns:\n",
    "        nans = df[col].isna().sum()\n",
    "        if nans > 0:\n",
    "            print(col, nans)\n",
    "            \n",
    "\"\"\"\n",
    "Dado un rango de clusters a probar\n",
    "calcula los coeficientes de silhouette y el puntaje\n",
    "\"\"\"\n",
    "def generar_coeficientes_y_score(df,rango_clusters,n_state):\n",
    "    #Creamos una lista para guardar de los coeficientes de silhouette para cada valor de k \n",
    "    silhouette_coefficients = []\n",
    "    score = []\n",
    "    # Se necesita tener al menos 2 clusters y a los sumo N-1 (con N el numero de muestras) para obtener coeficientes de Silohuette\n",
    "    for k in tqdm(rango_clusters):\n",
    "      #Inicializo kmeans con k clusters\n",
    "      kkkmeans = KMeans(n_clusters=k, init='k-means++', random_state=n_state)\n",
    "      #Aplico algoritmo Kmeans sobre los datos normalizados\n",
    "      kkkmeans.fit(df)\n",
    "      score = silhouette_score(df, kkkmeans.labels_)\n",
    "      silhouette_coefficients.append(score)\n",
    "    features = list(df.columns)\n",
    "    (pd.DataFrame(silhouette_coefficients)).to_csv(DIR_CLUSTERING_RESULTS+'coeff-'+str(len(features))+'-features-'+str(features)+'-random-state-'+str(n_state))\n",
    "    return silhouette_coefficients, score\n",
    "\n",
    "\"\"\"\n",
    "Dado los coeficientes de silhouette, devuelve el cluster donde se alcanza \n",
    " el maximo score y el score maximo correspondiente\n",
    "\"\"\"\n",
    "def ret_cluster_y_max_score(silhouette_coefficients, rango_clusters):\n",
    "    max_score = max(silhouette_coefficients)\n",
    "    position = [k for k in range(0,len(silhouette_coefficients)) \n",
    "               if silhouette_coefficients[k] == max_score][0]\n",
    "    cluster = list(rango_clusters)[position]\n",
    "    return cluster, max_score\n",
    "\n",
    "\n",
    "\"\"\"\n",
    "Dado un dataframe, un rango de clusters, y coeficientes de silhouette\n",
    "ploteamos para encontrar un maximo local.\n",
    "\"\"\"\n",
    "\n",
    "def plot_silhouette(df, rango_clusters, silhouette_coefficients, x_max, y_max, n_state):\n",
    "    fig, ax = plt.subplots(figsize = (10, 7))\n",
    "    # estas lineas son el grafico de SSEvsK\n",
    "    ax.scatter(np.arange(2,16,1), silhouette_coefficients)            \n",
    "    ax.set_xticks(np.arange(2,16,1))\n",
    "    ax.set_title('Puntaje de Silhouette en función de cantidad de clusters',fontsize=20)\n",
    "    ax.set_xlabel(\"Número de clusters k\",fontsize=12)\n",
    "    ax.set_ylabel(\"Promedio coeficientes de Silhouette\",fontsize=12)\n",
    "    #x = 5\n",
    "    #y = silhouette_coefficients[3]\n",
    "    ax.annotate('Máximo local', (x_max+0.2, y_max+0.002), fontsize=12)\n",
    "    ax.axvline(x=x_max,linestyle='dashdot', color='red')\n",
    "    ax.axhline(y=y_max,linestyle='dashdot',color='grey')\n",
    "    features =list(df.columns)\n",
    "    plt.savefig(DIR_CLUSTERING_PLOTS+'score-silhouette-'+str(len(features))+'-features-'+str(features)+'-random-state-'+str(n_state)+'.png')\n",
    "\n",
    "\"\"\"\n",
    "Dado un df normalizado y la cantidad de clusters donde alcance el maximo local con silhouette\n",
    "(y el random state correspondiente al KMeans), esta funcion devuelve el vector de etiquetas\n",
    "\"\"\"\n",
    "def labels_kmeans(df, clusters, n_state):\n",
    "    # genero el objeto KMeans con la cantidad de clusters donde alcance el maximo y el random_state correspondiente\n",
    "    kmeans = KMeans(n_clusters=clusters, init='k-means++',random_state=n_state)\n",
    "    #recordar que df debe estar normalizado\n",
    "    return kmeans.fit_predict(df)\n",
    "\n",
    "\n",
    "def plot_clusters(df, clusters):\n",
    "    #Getting unique labels\n",
    "    plt.figure(figsize=(9, 8))\n",
    "    #plotting the results:\n",
    "    for i in clusters:\n",
    "        plt.scatter(np.log(df[df.cluster == i][0]) , np.log(df[df.cluster == i][1]), label = 'cluster'+str(i), alpha=0.3, s=5)\n",
    "    plt.title('Primeras dos componentes de PCA after clustering')\n",
    "    plt.xlabel('Primera componente')\n",
    "    plt.ylabel('Segunda componente')\n",
    "    plt.legend()\n",
    "    plt.savefig(DIR_CLUSTERING_PLOTS+'plot_clusters_max_local_'+str(len(clusters))+'.png')\n"
   ]
  },
  {
   "cell_type": "markdown",
   "id": "c2bb9b8a",
   "metadata": {},
   "source": [
    "## Levanto la data\n",
    "\n",
    "Para poder clusterizar quiero una matriz de n usuarios x m features numericas"
   ]
  },
  {
   "cell_type": "code",
   "execution_count": 5,
   "id": "f17cf0c0",
   "metadata": {},
   "outputs": [],
   "source": [
    "df_users = pd.read_csv('./data/df_users.csv',index_col=[0])"
   ]
  },
  {
   "cell_type": "code",
   "execution_count": 8,
   "id": "90e74175",
   "metadata": {},
   "outputs": [
    {
     "data": {
      "text/plain": [
       "((142246, 16), 142246, None)"
      ]
     },
     "execution_count": 8,
     "metadata": {},
     "output_type": "execute_result"
    }
   ],
   "source": [
    "df_users.shape, df_users.userId.nunique(), Chequearnan(df_users)"
   ]
  },
  {
   "cell_type": "code",
   "execution_count": 30,
   "id": "8ee7e8b4",
   "metadata": {},
   "outputs": [
    {
     "data": {
      "text/html": [
       "<div>\n",
       "<style scoped>\n",
       "    .dataframe tbody tr th:only-of-type {\n",
       "        vertical-align: middle;\n",
       "    }\n",
       "\n",
       "    .dataframe tbody tr th {\n",
       "        vertical-align: top;\n",
       "    }\n",
       "\n",
       "    .dataframe thead th {\n",
       "        text-align: right;\n",
       "    }\n",
       "</style>\n",
       "<table border=\"1\" class=\"dataframe\">\n",
       "  <thead>\n",
       "    <tr style=\"text-align: right;\">\n",
       "      <th></th>\n",
       "      <th>userId</th>\n",
       "      <th>director_fav</th>\n",
       "      <th>film_decade_std</th>\n",
       "      <th>rating_std</th>\n",
       "      <th>rating_mean</th>\n",
       "      <th>film_decade_median</th>\n",
       "      <th>decade_fav</th>\n",
       "      <th>year_std</th>\n",
       "      <th>movies_count</th>\n",
       "      <th>director_fav_per</th>\n",
       "      <th>year_fav</th>\n",
       "      <th>decade_fav_per</th>\n",
       "      <th>rating_median</th>\n",
       "      <th>year_median</th>\n",
       "      <th>decade_fav_count</th>\n",
       "      <th>director_fav_count</th>\n",
       "    </tr>\n",
       "  </thead>\n",
       "  <tbody>\n",
       "    <tr>\n",
       "      <th>0</th>\n",
       "      <td>1</td>\n",
       "      <td>['Ingmar Bergman']</td>\n",
       "      <td>20.475203</td>\n",
       "      <td>1.004235</td>\n",
       "      <td>3.814286</td>\n",
       "      <td>1990.0</td>\n",
       "      <td>2000</td>\n",
       "      <td>19.971636</td>\n",
       "      <td>70</td>\n",
       "      <td>0.157143</td>\n",
       "      <td>2004.0</td>\n",
       "      <td>0.128571</td>\n",
       "      <td>4.0</td>\n",
       "      <td>1994.0</td>\n",
       "      <td>9</td>\n",
       "      <td>11</td>\n",
       "    </tr>\n",
       "  </tbody>\n",
       "</table>\n",
       "</div>"
      ],
      "text/plain": [
       "   userId        director_fav  film_decade_std  rating_std  rating_mean  \\\n",
       "0       1  ['Ingmar Bergman']        20.475203    1.004235     3.814286   \n",
       "\n",
       "   film_decade_median  decade_fav   year_std  movies_count  director_fav_per  \\\n",
       "0              1990.0        2000  19.971636            70          0.157143   \n",
       "\n",
       "   year_fav  decade_fav_per  rating_median  year_median  decade_fav_count  \\\n",
       "0    2004.0        0.128571            4.0       1994.0                 9   \n",
       "\n",
       "   director_fav_count  \n",
       "0                  11  "
      ]
     },
     "execution_count": 30,
     "metadata": {},
     "output_type": "execute_result"
    }
   ],
   "source": [
    "df_users.head(1)"
   ]
  },
  {
   "cell_type": "markdown",
   "id": "b0ef0bf7",
   "metadata": {},
   "source": [
    "# Selecciono features y Normalizacion\n",
    "['film_decade_std',\n",
    "  'decade_fav',\n",
    "  'decade_fav_per',\n",
    "  'rating_std',\n",
    "  'film_decade_median',\n",
    "  'year_median',\n",
    "  'rating_mean',\n",
    "  'director_fav_per',\n",
    "  'movies_count']"
   ]
  },
  {
   "cell_type": "code",
   "execution_count": 17,
   "id": "e0ea1daa",
   "metadata": {},
   "outputs": [
    {
     "data": {
      "text/plain": [
       "(['film_decade_std',\n",
       "  'decade_fav',\n",
       "  'decade_fav_per',\n",
       "  'rating_std',\n",
       "  'film_decade_median',\n",
       "  'year_median',\n",
       "  'rating_mean',\n",
       "  'director_fav_per',\n",
       "  'movies_count'],\n",
       " 9)"
      ]
     },
     "execution_count": 17,
     "metadata": {},
     "output_type": "execute_result"
    }
   ],
   "source": [
    "features_to_normalize =[  'film_decade_std',\n",
    "                          'decade_fav',\n",
    "                          'decade_fav_per',\n",
    "                          'rating_std',\n",
    "                          'film_decade_median',\n",
    "                          'year_median',\n",
    "                          'rating_mean',\n",
    "                          'director_fav_per',\n",
    "                          'movies_count']\n",
    "features_to_normalize , len(features_to_normalize)"
   ]
  },
  {
   "cell_type": "code",
   "execution_count": 25,
   "id": "48d1e7b2",
   "metadata": {},
   "outputs": [],
   "source": [
    "df_normalizado = pd.DataFrame(preprocessing.normalize(df_users[features_to_normalize], axis=0))\n",
    "df_normalizado.columns = features_to_normalize"
   ]
  },
  {
   "cell_type": "code",
   "execution_count": 28,
   "id": "4d40119c",
   "metadata": {},
   "outputs": [
    {
     "data": {
      "text/plain": [
       "((142246, 9), None)"
      ]
     },
     "execution_count": 28,
     "metadata": {},
     "output_type": "execute_result"
    }
   ],
   "source": [
    "df_normalizado.shape, Chequearnan(df_normalizado)"
   ]
  },
  {
   "cell_type": "code",
   "execution_count": 29,
   "id": "318a793b",
   "metadata": {},
   "outputs": [
    {
     "data": {
      "text/html": [
       "<div>\n",
       "<style scoped>\n",
       "    .dataframe tbody tr th:only-of-type {\n",
       "        vertical-align: middle;\n",
       "    }\n",
       "\n",
       "    .dataframe tbody tr th {\n",
       "        vertical-align: top;\n",
       "    }\n",
       "\n",
       "    .dataframe thead th {\n",
       "        text-align: right;\n",
       "    }\n",
       "</style>\n",
       "<table border=\"1\" class=\"dataframe\">\n",
       "  <thead>\n",
       "    <tr style=\"text-align: right;\">\n",
       "      <th></th>\n",
       "      <th>film_decade_std</th>\n",
       "      <th>decade_fav</th>\n",
       "      <th>decade_fav_per</th>\n",
       "      <th>rating_std</th>\n",
       "      <th>film_decade_median</th>\n",
       "      <th>year_median</th>\n",
       "      <th>rating_mean</th>\n",
       "      <th>director_fav_per</th>\n",
       "      <th>movies_count</th>\n",
       "    </tr>\n",
       "  </thead>\n",
       "  <tbody>\n",
       "    <tr>\n",
       "      <th>0</th>\n",
       "      <td>0.004742</td>\n",
       "      <td>0.00266</td>\n",
       "      <td>0.001175</td>\n",
       "      <td>0.002753</td>\n",
       "      <td>0.002649</td>\n",
       "      <td>0.002648</td>\n",
       "      <td>0.002703</td>\n",
       "      <td>0.002829</td>\n",
       "      <td>0.001724</td>\n",
       "    </tr>\n",
       "  </tbody>\n",
       "</table>\n",
       "</div>"
      ],
      "text/plain": [
       "   film_decade_std  decade_fav  decade_fav_per  rating_std  \\\n",
       "0         0.004742     0.00266        0.001175    0.002753   \n",
       "\n",
       "   film_decade_median  year_median  rating_mean  director_fav_per  \\\n",
       "0            0.002649     0.002648     0.002703          0.002829   \n",
       "\n",
       "   movies_count  \n",
       "0      0.001724  "
      ]
     },
     "execution_count": 29,
     "metadata": {},
     "output_type": "execute_result"
    }
   ],
   "source": [
    "df_normalizado.head(1)"
   ]
  },
  {
   "cell_type": "markdown",
   "id": "15dc24a9",
   "metadata": {},
   "source": [
    "# Clustering con KMeans"
   ]
  },
  {
   "cell_type": "markdown",
   "id": "edcc4084",
   "metadata": {},
   "source": [
    "#### Criterio de Silhoutte"
   ]
  },
  {
   "cell_type": "code",
   "execution_count": 43,
   "id": "a2225e78",
   "metadata": {},
   "outputs": [
    {
     "name": "stderr",
     "output_type": "stream",
     "text": [
      "100%|██████████████████████████████████████████| 14/14 [54:09<00:00, 232.08s/it]\n"
     ]
    }
   ],
   "source": [
    "sil_coeff, score = generar_coeficientes_y_score(df_normalizado,np.arange(2,16,1),1)"
   ]
  },
  {
   "cell_type": "code",
   "execution_count": 87,
   "id": "5dfc55af",
   "metadata": {},
   "outputs": [],
   "source": [
    "k_max , max_score = ret_cluster_y_max_score(sil_coeff, np.arange(2,16,1))"
   ]
  },
  {
   "cell_type": "code",
   "execution_count": 89,
   "id": "7c9071e6",
   "metadata": {},
   "outputs": [
    {
     "name": "stdout",
     "output_type": "stream",
     "text": [
      "\n",
      " features normalizadas= ['film_decade_std', 'decade_fav', 'decade_fav_per', 'rating_std', 'film_decade_median', 'year_median', 'rating_mean', 'director_fav_per', 'movies_count']\n",
      "\n",
      " Silhouette coefficients= [0.28037485516390037, 0.288270239019996, 0.33079935596029725, 0.3424621614293421, 0.2620105519036658, 0.2688292277952895, 0.26118675398106717, 0.25982372145210814, 0.24574127452803227, 0.23996796442238177, 0.2385070582278502, 0.23544973507380157, 0.21822313595272586, 0.21723034199194594]\n",
      "\n",
      " Cluster donde se alcanza el maximo local = 5\n",
      "\n",
      " maximo score de silhouette obtenido =  0.3424621614293421\n",
      "\n",
      " score obtenido = 0.21723034199194594\n"
     ]
    }
   ],
   "source": [
    "#resultados con random_state = 1\n",
    "# guardamos el resultado de los coeficientes con la funcion generar_coeficientes_y_score, indicando el random_state\n",
    "print('\\n features normalizadas=',features_to_normalize)\n",
    "print('\\n Silhouette coefficients=',sil_coeff)\n",
    "print('\\n Cluster donde se alcanza el maximo local =',k_max)\n",
    "print('\\n maximo score de silhouette obtenido = ', max_score)\n",
    "print('\\n score obtenido =',score)"
   ]
  },
  {
   "cell_type": "code",
   "execution_count": 84,
   "id": "af5e3066",
   "metadata": {},
   "outputs": [
    {
     "data": {
      "image/png": "[encoded data removed]",
      "text/plain": [
       "<Figure size 720x504 with 1 Axes>"
      ]
     },
     "metadata": {
      "needs_background": "light"
     },
     "output_type": "display_data"
    }
   ],
   "source": [
    "#guardamos este plot al correr la funcion\n",
    "plot_silhouette(df_normalizado ,np.arange(2,16,1), sil_coeff, k_max, max_score, 1)"
   ]
  },
  {
   "cell_type": "markdown",
   "id": "710d9f60",
   "metadata": {},
   "source": [
    "#### Resultado: KMeans con random_state=1 considerando 9 features : maximo local 5 \n",
    "\n",
    " features normalizadas= ['film_decade_std', 'decade_fav', 'decade_fav_per', 'rating_std', 'film_decade_median', 'year_median', 'rating_mean', 'director_fav_per', 'movies_count']\n",
    "\n",
    " Silhouette coefficients= [0.28037485516390037, 0.288270239019996, 0.33079935596029725, 0.3424621614293421, 0.2620105519036658, 0.2688292277952895, 0.26118675398106717, 0.25982372145210814, 0.24574127452803227, 0.23996796442238177, 0.2385070582278502, 0.23544973507380157, 0.21822313595272586, 0.21723034199194594]\n",
    "\n",
    " Cluster donde se alcanza el maximo local = 5\n",
    "\n",
    " maximo score de silhouette obtenido =  0.3424621614293421\n",
    "\n",
    " score obtenido = 0.21723034199194594"
   ]
  },
  {
   "cell_type": "code",
   "execution_count": 91,
   "id": "57c6145c",
   "metadata": {},
   "outputs": [
    {
     "data": {
      "text/html": [
       "<div>\n",
       "<style scoped>\n",
       "    .dataframe tbody tr th:only-of-type {\n",
       "        vertical-align: middle;\n",
       "    }\n",
       "\n",
       "    .dataframe tbody tr th {\n",
       "        vertical-align: top;\n",
       "    }\n",
       "\n",
       "    .dataframe thead th {\n",
       "        text-align: right;\n",
       "    }\n",
       "</style>\n",
       "<table border=\"1\" class=\"dataframe\">\n",
       "  <thead>\n",
       "    <tr style=\"text-align: right;\">\n",
       "      <th></th>\n",
       "      <th>film_decade_std</th>\n",
       "      <th>decade_fav</th>\n",
       "      <th>decade_fav_per</th>\n",
       "      <th>rating_std</th>\n",
       "      <th>film_decade_median</th>\n",
       "      <th>year_median</th>\n",
       "      <th>rating_mean</th>\n",
       "      <th>director_fav_per</th>\n",
       "      <th>movies_count</th>\n",
       "    </tr>\n",
       "  </thead>\n",
       "  <tbody>\n",
       "    <tr>\n",
       "      <th>0</th>\n",
       "      <td>0.004742</td>\n",
       "      <td>0.002660</td>\n",
       "      <td>0.001175</td>\n",
       "      <td>0.002753</td>\n",
       "      <td>0.002649</td>\n",
       "      <td>0.002648</td>\n",
       "      <td>0.002703</td>\n",
       "      <td>0.002829</td>\n",
       "      <td>0.001724</td>\n",
       "    </tr>\n",
       "    <tr>\n",
       "      <th>1</th>\n",
       "      <td>0.002686</td>\n",
       "      <td>0.002647</td>\n",
       "      <td>0.000646</td>\n",
       "      <td>0.003996</td>\n",
       "      <td>0.002649</td>\n",
       "      <td>0.002652</td>\n",
       "      <td>0.002573</td>\n",
       "      <td>0.000880</td>\n",
       "      <td>0.004531</td>\n",
       "    </tr>\n",
       "    <tr>\n",
       "      <th>2</th>\n",
       "      <td>0.002978</td>\n",
       "      <td>0.002673</td>\n",
       "      <td>0.001284</td>\n",
       "      <td>0.003062</td>\n",
       "      <td>0.002662</td>\n",
       "      <td>0.002668</td>\n",
       "      <td>0.002394</td>\n",
       "      <td>0.001041</td>\n",
       "      <td>0.005959</td>\n",
       "    </tr>\n",
       "  </tbody>\n",
       "</table>\n",
       "</div>"
      ],
      "text/plain": [
       "   film_decade_std  decade_fav  decade_fav_per  rating_std  \\\n",
       "0         0.004742    0.002660        0.001175    0.002753   \n",
       "1         0.002686    0.002647        0.000646    0.003996   \n",
       "2         0.002978    0.002673        0.001284    0.003062   \n",
       "\n",
       "   film_decade_median  year_median  rating_mean  director_fav_per  \\\n",
       "0            0.002649     0.002648     0.002703          0.002829   \n",
       "1            0.002649     0.002652     0.002573          0.000880   \n",
       "2            0.002662     0.002668     0.002394          0.001041   \n",
       "\n",
       "   movies_count  \n",
       "0      0.001724  \n",
       "1      0.004531  \n",
       "2      0.005959  "
      ]
     },
     "execution_count": 91,
     "metadata": {},
     "output_type": "execute_result"
    }
   ],
   "source": [
    "df_normalizado.head(3)"
   ]
  },
  {
   "cell_type": "code",
   "execution_count": 92,
   "id": "6fe2cc6c",
   "metadata": {},
   "outputs": [],
   "source": [
    "pred_km = labels_kmeans(df_normalizado, 5, 1)"
   ]
  },
  {
   "cell_type": "code",
   "execution_count": 101,
   "id": "e68ec7ca",
   "metadata": {},
   "outputs": [
    {
     "data": {
      "text/plain": [
       "(142246, array([4, 2, 2, 4, 1, 0, 2, 2, 4, 4], dtype=int32))"
      ]
     },
     "execution_count": 101,
     "metadata": {},
     "output_type": "execute_result"
    }
   ],
   "source": [
    "len(pred_km), pred_km[:10]"
   ]
  },
  {
   "cell_type": "code",
   "execution_count": 123,
   "id": "583b8eb9",
   "metadata": {},
   "outputs": [],
   "source": [
    "#En un dataframe le asigno a cada usuario el cluster correspondiente\n",
    "userid_cluster = pd.DataFrame({'userId':df_users.userId,'cluster':pred_km}).reset_index(drop=True)\n",
    "\n",
    "#Agrego las columnas userId y cluster al dataframe con las features normalizadas\n",
    "df_normalizado['userId'] = userid_cluster.userId\n",
    "df_normalizado['cluster'] = userid_cluster.cluster\n",
    "\n",
    "#Agrego el cluster al dataframe de usuarios inicial, que contiene todas las features para los usuarios\n",
    "df_users = df_users.merge(userid_cluster, on='userId')"
   ]
  },
  {
   "cell_type": "code",
   "execution_count": 124,
   "id": "7a17187f",
   "metadata": {},
   "outputs": [],
   "source": [
    "df_users.to_csv(DIR_CLUSTERING_RESULTS+'df_users_kmeans_9_features_max_local_5.csv')\n",
    "df_normalizado.to_csv(DIR_CLUSTERING_RESULTS+'df_normalizado_kmeans_9_features_max_local_5.csv')"
   ]
  },
  {
   "cell_type": "markdown",
   "id": "f4068913",
   "metadata": {},
   "source": [
    "## Clustering Plot usando PCA"
   ]
  },
  {
   "cell_type": "code",
   "execution_count": 126,
   "id": "5f738d19",
   "metadata": {},
   "outputs": [],
   "source": [
    "#primero uso PCA con dos componentes para poder plotear\n",
    "# Creación del modelo de PCA con 2 componentes\n",
    "pca = PCA(n_components = 2,random_state=0)\n",
    "\n",
    "# Ajuste y transformación de los datos\n",
    "pca.fit(df_normalizado[features_to_normalize])\n",
    "data_pca = pca.transform(df_normalizado[features_to_normalize])"
   ]
  },
  {
   "cell_type": "code",
   "execution_count": 128,
   "id": "8b855345",
   "metadata": {},
   "outputs": [],
   "source": [
    "data_pca = pd.DataFrame(data_pca)\n",
    "# Agrego el cluster para poder plotear\n",
    "data_pca['cluster'] =  userid_cluster.cluster"
   ]
  },
  {
   "cell_type": "code",
   "execution_count": 156,
   "id": "f0ea53a1",
   "metadata": {},
   "outputs": [
    {
     "data": {
      "image/png": "[encoded data removed]",
      "text/plain": [
       "<Figure size 648x576 with 1 Axes>"
      ]
     },
     "metadata": {
      "needs_background": "light"
     },
     "output_type": "display_data"
    }
   ],
   "source": [
    "#guardamos este plot al correr la funcion\n",
    "plot_clusters(data_pca, list(data_pca.cluster.sort_values().unique()))"
   ]
  }
 ],
 "metadata": {
  "kernelspec": {
   "display_name": "Python 3 (ipykernel)",
   "language": "python",
   "name": "python3"
  },
  "language_info": {
   "codemirror_mode": {
    "name": "ipython",
    "version": 3
   },
   "file_extension": ".py",
   "mimetype": "text/x-python",
   "name": "python",
   "nbconvert_exporter": "python",
   "pygments_lexer": "ipython3",
   "version": "3.8.10"
  }
 },
 "nbformat": 4,
 "nbformat_minor": 5
}
